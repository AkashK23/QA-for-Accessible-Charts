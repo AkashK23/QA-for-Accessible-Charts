{
 "cells": [
  {
   "cell_type": "code",
   "execution_count": 122,
   "metadata": {},
   "outputs": [
    {
     "name": "stdout",
     "output_type": "stream",
     "text": [
      "(380, 511)\n",
      "21\n"
     ]
    },
    {
     "data": {
      "image/png": "[encoded data removed]",
      "text/plain": [
       "<Figure size 1080x360 with 3 Axes>"
      ]
     },
     "metadata": {
      "needs_background": "light"
     },
     "output_type": "display_data"
    }
   ],
   "source": [
    "from skimage.transform import probabilistic_hough_line\n",
    "\n",
    "# Line finding using the Probabilistic Hough Transform\n",
    "\n",
    "from PIL import Image\n",
    "img = Image.open('barChart.png').convert('L')\n",
    "image = np.asarray(img)\n",
    "print(image.shape)\n",
    "\n",
    "# image = data.camera()\n",
    "edges = canny(image, 2, 1, 25)\n",
    "lines = probabilistic_hough_line(edges, threshold=40, line_length=10,\n",
    "                                 line_gap=0)\n",
    "\n",
    "# Generating figure 2\n",
    "fig, axes = plt.subplots(1, 3, figsize=(15, 5), sharex=True, sharey=True)\n",
    "ax = axes.ravel()\n",
    "\n",
    "ax[0].imshow(image, cmap=cm.gray)\n",
    "ax[0].set_title('Input image')\n",
    "\n",
    "ax[1].imshow(edges, cmap=cm.gray)\n",
    "ax[1].set_title('Canny edges')\n",
    "\n",
    "ax[2].imshow(edges * 0)\n",
    "print(len(lines))\n",
    "vertLines = []\n",
    "horLines = []\n",
    "for line in lines:\n",
    "    p0, p1 = line\n",
    "    newp0 = []\n",
    "    newp1 = []\n",
    "    if p0[1] == p1[1]:\n",
    "        newp0.append(0)\n",
    "        newp1.append(image.shape[1])\n",
    "        newp0.append(p0[1])\n",
    "        newp1.append(p1[1])\n",
    "        ax[2].plot((newp0[0], newp1[0]), (newp0[1], newp1[1]))\n",
    "        horLines.append(line)\n",
    "    elif p0[0] == p1[0]:\n",
    "        newp0.append(p0[0])\n",
    "        newp1.append(p1[0])\n",
    "        newp0.append(0)\n",
    "        newp1.append(image.shape[0])\n",
    "        ax[2].plot((newp0[0], newp1[0]), (newp0[1], newp1[1]))\n",
    "        vertLines.append(line)\n",
    "    else:\n",
    "        pass\n",
    "    \n",
    "ax[2].set_xlim((0, image.shape[1]))\n",
    "ax[2].set_ylim((image.shape[0], 0))\n",
    "ax[2].set_title('Probabilistic Hough')\n",
    "\n",
    "for a in ax:\n",
    "    a.set_axis_off()\n",
    "\n",
    "plt.tight_layout()\n",
    "plt.show()"
   ]
  },
  {
   "cell_type": "code",
   "execution_count": 119,
   "metadata": {},
   "outputs": [
    {
     "name": "stdout",
     "output_type": "stream",
     "text": [
      "[((453, 321), (453, 99)), ((176, 321), (176, 103)), ((428, 321), (428, 98)), ((151, 321), (151, 105)), ((314, 321), (314, 145)), ((290, 321), (290, 145))]\n"
     ]
    }
   ],
   "source": [
    "minX = image.shape[1]\n",
    "verI = 0\n",
    "yAx = ()\n",
    "xAx = ()\n",
    "for i in range(0, len(vertLines)):\n",
    "    if minX > vertLines[i][0][0]:\n",
    "        minX = vertLines[i][0][0]\n",
    "        yAx = vertLines[i]\n",
    "for i in range(0, len(horLines)):\n",
    "    if minX > horLines[i][0][1]:\n",
    "        minX = horLines[i][0][1]\n",
    "        xAx = horLines[i]\n",
    "        \n",
    "barV = [i for i in vertLines if i[0][0] > yAx[0][0]]\n",
    "barH = [i for i in vertLines if i[0][1] < xAx[0][1]]\n",
    "\n",
    "\n",
    "def myFunc(e):\n",
    "  return e[0][1]\n",
    "\n",
    "def myFunc2(e):\n",
    "  return e[0][1]\n",
    "\n",
    "barH.sort(key=myFunc)\n",
    "barV.sort(key=myFunc2)"
   ]
  },
  {
   "cell_type": "code",
   "execution_count": 97,
   "metadata": {},
   "outputs": [
    {
     "name": "stdout",
     "output_type": "stream",
     "text": [
      "25\n",
      "\n",
      "20:\n",
      "\n",
      "Defects /\n",
      "\n",
      "1,000cars 15\n",
      "10\n",
      "5\n",
      "0\n",
      "\n",
      "A B\n",
      "\n",
      "Factory\n",
      "\f",
      "\n"
     ]
    }
   ],
   "source": [
    "import pytesseract\n",
    "pytesseract.pytesseract.tesseract_cmd = r'C:\\Program Files\\Tesseract-OCR\\tesseract'\n",
    "print(pytesseract.image_to_string('barChart.png'))"
   ]
  },
  {
   "cell_type": "code",
   "execution_count": 90,
   "metadata": {},
   "outputs": [
    {
     "name": "stdout",
     "output_type": "stream",
     "text": [
      "['A', 'B']\n",
      "[25, 10, 5, 0]\n"
     ]
    }
   ],
   "source": [
    "labels = pytesseract.image_to_string(r'barChart.png')\n",
    "labList = labels.split(\"\\n\")\n",
    "newL = [i for i in labList if i]\n",
    "nums = []\n",
    "lasNum = 0\n",
    "for i in range(0, len(newL)):\n",
    "    try:\n",
    "        number = int(newL[i])\n",
    "        nums.append(number)\n",
    "        lasNum = i\n",
    "    except:\n",
    "        pass\n",
    "catLab = newL[lasNum+1].split()\n",
    "print(catLab)\n",
    "print(nums)"
   ]
  }
 ],
 "metadata": {
  "kernelspec": {
   "display_name": "Python 3",
   "language": "python",
   "name": "python3"
  },
  "language_info": {
   "codemirror_mode": {
    "name": "ipython",
    "version": 3
   },
   "file_extension": ".py",
   "mimetype": "text/x-python",
   "name": "python",
   "nbconvert_exporter": "python",
   "pygments_lexer": "ipython3",
   "version": "3.7.6"
  }
 },
 "nbformat": 4,
 "nbformat_minor": 4
}
