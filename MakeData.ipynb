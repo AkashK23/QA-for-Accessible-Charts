{
 "cells": [
  {
   "cell_type": "code",
   "execution_count": 17,
   "metadata": {},
   "outputs": [
    {
     "name": "stdout",
     "output_type": "stream",
     "text": [
      "first\n",
      "sixth\n",
      "eleventh\n",
      "sixteenth\n",
      "twenty-first\n"
     ]
    }
   ],
   "source": [
    "### make Label Data\n",
    "import inflect\n",
    "import random\n",
    "p = inflect.engine()\n",
    "\n",
    "for i in range(1,25,5):\n",
    "    print(p.number_to_words(p.ordinal(i)))"
   ]
  },
  {
   "cell_type": "code",
   "execution_count": 18,
   "metadata": {},
   "outputs": [],
   "source": [
    "#### Type 1 questions: getting title and label information\n",
    "labels = ['x-axis', 'y-axis']\n",
    "valOrLab = [['label', 'value'], ['labels', 'values']]\n",
    "areOrIs = ['is the', 'are the']\n",
    "last = ['to last', 'from the end']\n",
    "quesOcom = ['what', 'tell me the', 'read me the']\n",
    "pluralFoL = ['first', 'last']\n",
    "titleOrName = ['title', 'name']\n",
    "\n",
    "f = open(\"questionsData.txt\", \"w\")\n",
    "for i in range(0,5000):\n",
    "    question = random.randint(0,2)\n",
    "#     question = 1\n",
    "    plural = random.randint(0,1)\n",
    "    xOrY = random.randint(0,1)\n",
    "    FoL = random.randint(0,1)\n",
    "    labelVal = random.randint(0,1)\n",
    "    number = random.randint(1,20)\n",
    "    numStr = p.number_to_words(p.ordinal(number))\n",
    "    numStrP = p.number_to_words(number)\n",
    "\n",
    "    if number == 1:\n",
    "        plural = 0\n",
    "\n",
    "    quesStr = ''\n",
    "    if question == 0:\n",
    "        quesStr = quesStr + quesOcom[0] + ' ' + areOrIs[plural] \n",
    "    else:\n",
    "        quesStr = quesStr + quesOcom[question]\n",
    "    if plural == 1:\n",
    "        quesStr = quesStr + ' ' + pluralFoL[FoL] + ' ' + numStrP\n",
    "    else:\n",
    "        if FoL == 1:\n",
    "            lastInt = random.randint(0,1)\n",
    "            if number == 1:\n",
    "                quesStr = quesStr + ' ' + 'last'\n",
    "            else:\n",
    "                quesStr = quesStr + ' ' + numStr + ' ' + last[lastInt]\n",
    "        else:\n",
    "            quesStr = quesStr + ' ' + numStr\n",
    "    quesStr = quesStr + ' ' + labels[xOrY] + ' ' + valOrLab[plural][labelVal]\n",
    "#     quesStr = \"hi hi hi hi hi hi hi\"\n",
    "    quesStr = quesStr + ':type1'\n",
    "    f.write(quesStr + \"\\n\")\n",
    "for i in range(0,2000):\n",
    "    question = random.randint(0,2)\n",
    "    xOrY = random.randint(0,1)\n",
    "    titleInt = random.randint(0,1)\n",
    "    titleStr = ''\n",
    "    if question == 0:\n",
    "        titleStr = titleStr + quesOcom[0] + ' ' + areOrIs[0] \n",
    "    else:\n",
    "        titleStr = titleStr + quesOcom[question]\n",
    "    titleStr = titleStr + ' ' + labels[xOrY] + ' ' + titleOrName[titleInt]\n",
    "#     titleStr = \"hi hi hi hi hi hi hi\"\n",
    "    titleStr = titleStr + ':type1'\n",
    "    f.write(titleStr + \"\\n\")\n",
    "f.close()"
   ]
  },
  {
   "cell_type": "code",
   "execution_count": 19,
   "metadata": {},
   "outputs": [],
   "source": [
    "nouns = []\n",
    "vocab_file_name='nounlist.txt'\n",
    "with open(vocab_file_name) as voc_file:\n",
    "        for token in voc_file:\n",
    "            nouns.append(token.rstrip())"
   ]
  },
  {
   "cell_type": "code",
   "execution_count": 20,
   "metadata": {},
   "outputs": [
    {
     "name": "stdout",
     "output_type": "stream",
     "text": [
      "9683\n"
     ]
    }
   ],
   "source": [
    "print(len(nouns))"
   ]
  },
  {
   "cell_type": "code",
   "execution_count": 21,
   "metadata": {},
   "outputs": [],
   "source": [
    "### Type two questions: retrieving values from graph\n",
    "f = open(\"questionsData.txt\", \"a\")\n",
    "for i in range(0,7000):\n",
    "    quesOcom = ['what is the', 'tell me the', 'read me the']\n",
    "    valueStrs = [\"value\", \"amount\", \"number\"]\n",
    "    valOrNoun = random.randint(0,1)\n",
    "    whenOrNot = random.randint(0,1)\n",
    "\n",
    "    question = random.randint(0,2)\n",
    "#     question = 2\n",
    "    quesStr = ''\n",
    "    quesStr = quesStr + quesOcom[question]\n",
    "\n",
    "    if valOrNoun == 0:\n",
    "        valInt = random.randint(0,2)\n",
    "        quesStr = quesStr + ' ' + valueStrs[valInt]\n",
    "    else:\n",
    "        randNoun = random.randint(0,len(nouns)-1)\n",
    "        quesStr = quesStr + ' ' + nouns[randNoun]\n",
    "\n",
    "    if whenOrNot == 0:\n",
    "        randNoun = random.randint(0,len(nouns)-1)\n",
    "        quesStr = quesStr + ' for ' + nouns[randNoun]\n",
    "    else:\n",
    "        randNoun = random.randint(0,len(nouns)-1)\n",
    "        randNoun2 = random.randint(0,len(nouns)-1)\n",
    "        quesStr = quesStr + ' when ' + nouns[randNoun] + ' is ' + nouns[randNoun2]\n",
    "#     quesStr = \"what what what what what what\"\n",
    "    quesStr = quesStr + ':type2'\n",
    "    f.write(quesStr + \"\\n\")\n",
    "f.close()"
   ]
  },
  {
   "cell_type": "code",
   "execution_count": 22,
   "metadata": {},
   "outputs": [],
   "source": [
    "### Type 3 questions: computation on data\n",
    "f = open(\"questionsData.txt\", \"a\")\n",
    "for i in range(0,7000):\n",
    "    operations = [\"mean\", \"average\", \"median\", \"mode\", \"range\", \"max\", \"largest\", \"maximum\", \"biggest\", \"tallest\", \"highest\", \"min\", \"smallest\", \"minimum\", \"lowest\", \"shortest\"]\n",
    "    minMax = ['largest', 'smallest', 'max', 'min', 'maximum', 'minimum']\n",
    "    quesOcom = ['what is the', 'tell me the', 'read me the']\n",
    "    question = random.randint(0,2)\n",
    "#     question = 0\n",
    "    opInt = random.randint(0,15)\n",
    "    opMax = random.randint(0,2)\n",
    "\n",
    "    quesStr = ''\n",
    "    quesStr = quesStr + quesOcom[question]\n",
    "    if opMax == 2:\n",
    "        randNoun = random.randint(0,len(nouns)-1)\n",
    "        mmInt = random.randint(0,5)\n",
    "        quesStr = 'which ' + nouns[randNoun] + ' is the ' + minMax[mmInt]\n",
    "    else:\n",
    "        quesStr = quesStr + ' ' + operations[opInt]\n",
    "#         print(\"here \" + quesStr + ' ' + str(opInt))\n",
    "        dataOnoun = random.randint(0,3)\n",
    "        randNoun = random.randint(0,len(nouns)-1)\n",
    "        if dataOnoun == 0:\n",
    "            quesStr = quesStr + ' of the data'\n",
    "        elif dataOnoun == 1:\n",
    "            quesStr = quesStr + ' of the ' + nouns[randNoun]\n",
    "        elif dataOnoun == 2:\n",
    "            valn = random.randint(0,1)\n",
    "            if valn == 0:\n",
    "                quesStr = quesStr + ' value'\n",
    "            else:\n",
    "                quesStr = quesStr + ' ' +  nouns[randNoun]\n",
    "            \n",
    "#     quesStr = \"home home home home home home\"\n",
    "    quesStr = quesStr + ':type3'\n",
    "    f.write(quesStr + \"\\n\")\n",
    "f.close()"
   ]
  }
 ],
 "metadata": {
  "kernelspec": {
   "display_name": "Python 3",
   "language": "python",
   "name": "python3"
  },
  "language_info": {
   "codemirror_mode": {
    "name": "ipython",
    "version": 3
   },
   "file_extension": ".py",
   "mimetype": "text/x-python",
   "name": "python",
   "nbconvert_exporter": "python",
   "pygments_lexer": "ipython3",
   "version": "3.7.6"
  }
 },
 "nbformat": 4,
 "nbformat_minor": 4
}
